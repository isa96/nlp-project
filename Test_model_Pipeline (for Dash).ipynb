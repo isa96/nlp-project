{
 "cells": [
  {
   "cell_type": "markdown",
   "metadata": {},
   "source": [
    "## Test Pipeline Model"
   ]
  },
  {
   "cell_type": "code",
   "execution_count": 1,
   "metadata": {},
   "outputs": [],
   "source": [
    "import pickle\n",
    "import pandas as pd\n",
    "import numpy as np\n",
    "\n",
    "# Data handling and processing #\n",
    "import re\n",
    "import string\n",
    "import nltk\n",
    "from nltk.corpus import stopwords\n",
    "from nltk.stem import WordNetLemmatizer \n",
    "lemmatizer = WordNetLemmatizer()\n",
    "\n",
    "# TextBlob #\n",
    "from textblob import TextBlob\n",
    "import warnings\n",
    "warnings.filterwarnings('ignore')\n",
    "\n",
    "# Model preparation #\n",
    "from sklearn.feature_extraction.text import CountVectorizer\n",
    "from sklearn.feature_extraction.text import TfidfTransformer\n",
    "from sklearn.pipeline import Pipeline"
   ]
  },
  {
   "cell_type": "code",
   "execution_count": 2,
   "metadata": {},
   "outputs": [
    {
     "data": {
      "text/plain": [
       "['i', 'me', 'my', 'myself', 'we', 'our', 'ours', 'ourselves', 'you', 'youre']"
      ]
     },
     "execution_count": 2,
     "metadata": {},
     "output_type": "execute_result"
    }
   ],
   "source": [
    "stop = stopwords.words('english')\n",
    "stop.remove('not')\n",
    "\n",
    "new_stopwords = []\n",
    "for item in stop:\n",
    "    new_words = [char for char in item if char not in string.punctuation]\n",
    "    new_words = ''.join(new_words)\n",
    "    new_stopwords.append(new_words)\n",
    "\n",
    "new_stopwords.append(\"im\")\n",
    "new_stopwords.append(\"i'm\")\n",
    "new_stopwords[:10]"
   ]
  },
  {
   "cell_type": "code",
   "execution_count": 3,
   "metadata": {},
   "outputs": [],
   "source": [
    "clothes = ['top', 'dress', 'blouse', 'shirt', 'skirt', 'jeans', 'jean', 'jumpsuit','color','camisole']"
   ]
  },
  {
   "cell_type": "code",
   "execution_count": 4,
   "metadata": {},
   "outputs": [],
   "source": [
    "# Cleaning Text #\n",
    "\n",
    "def clean_process(text):\n",
    "    #make lowercase\n",
    "    clean_text = text.lower()\n",
    "\n",
    "    #remove punctuation and numbers#\n",
    "    clean_text = [char for char in clean_text if char not in string.punctuation]\n",
    "    clean_text = [char for char in clean_text if char not in string.digits]\n",
    "    clean_text = ''.join(clean_text)\n",
    "    \n",
    "    #remove spasi kelebihan di depan/akhir review#\n",
    "    clean_text = clean_text.strip()\n",
    "    \n",
    "    #Spelling Correction#\n",
    "    clean_text = TextBlob(clean_text).correct()\n",
    "\n",
    "    #remove stopwords#\n",
    "    clean_text = [word for word in clean_text.split(' ') if word not in stopwords.words('english')]\n",
    "    clean_text = [word for word in clean_text if word not in new_stopwords]\n",
    "    \n",
    "    #make it whole again#\n",
    "    clean_text = ' '.join(clean_text)\n",
    "    \n",
    "    #stringnya di-tokenize dulu menjadi token berupa kata (word token)#\n",
    "    clean_text = clean_text.split()\n",
    "    \n",
    "    #setiap tokennya di lemmatize\n",
    "    new_string=[]\n",
    "    for word in clean_text:\n",
    "        x_word = lemmatizer.lemmatize(word)\n",
    "        new_string.append(x_word)\n",
    "\n",
    "    return new_string"
   ]
  },
  {
   "cell_type": "code",
   "execution_count": 5,
   "metadata": {},
   "outputs": [],
   "source": [
    "model = pickle.load(open('pipeline.sav', 'rb'))"
   ]
  },
  {
   "cell_type": "code",
   "execution_count": 6,
   "metadata": {},
   "outputs": [
    {
     "data": {
      "text/plain": [
       "[('bow',\n",
       "  CountVectorizer(analyzer=<function clean_process at 0x000001ED8A46F5E8>,\n",
       "                  binary=False, decode_error='strict',\n",
       "                  dtype=<class 'numpy.int64'>, encoding='utf-8', input='content',\n",
       "                  lowercase=True, max_df=0.9, max_features=None, min_df=0.005,\n",
       "                  ngram_range=(1, 2), preprocessor=None, stop_words=None,\n",
       "                  strip_accents=None, token_pattern='(?u)\\\\b\\\\w\\\\w+\\\\b',\n",
       "                  tokenizer=None, vocabulary=None)),\n",
       " ('tfidf',\n",
       "  TfidfTransformer(norm='l2', smooth_idf=True, sublinear_tf=False, use_idf=True)),\n",
       " ('classifier',\n",
       "  RandomForestClassifier(bootstrap=True, ccp_alpha=0.0, class_weight=None,\n",
       "                         criterion='gini', max_depth=None, max_features='auto',\n",
       "                         max_leaf_nodes=None, max_samples=None,\n",
       "                         min_impurity_decrease=0.0, min_impurity_split=None,\n",
       "                         min_samples_leaf=1, min_samples_split=2,\n",
       "                         min_weight_fraction_leaf=0.0, n_estimators=100,\n",
       "                         n_jobs=None, oob_score=False, random_state=None,\n",
       "                         verbose=0, warm_start=False))]"
      ]
     },
     "execution_count": 6,
     "metadata": {},
     "output_type": "execute_result"
    }
   ],
   "source": [
    "model.steps"
   ]
  },
  {
   "cell_type": "code",
   "execution_count": 7,
   "metadata": {},
   "outputs": [],
   "source": [
    "model_1 = pickle.load(open('pipeline_1.sav', 'rb'))"
   ]
  },
  {
   "cell_type": "code",
   "execution_count": 8,
   "metadata": {},
   "outputs": [],
   "source": [
    "model_2 = pickle.load(open('pipeline_3.sav', 'rb'))"
   ]
  },
  {
   "cell_type": "code",
   "execution_count": 9,
   "metadata": {},
   "outputs": [],
   "source": [
    "model_3 = pickle.load(open('pipeline_4.sav', 'rb'))"
   ]
  },
  {
   "cell_type": "code",
   "execution_count": 10,
   "metadata": {},
   "outputs": [],
   "source": [
    "tes1 = 'I love this dress, so pretty!!'\n",
    "tes2 = \"The dress is weird and not fit, disappointed\"\n",
    "tes3 = \"Size doesn't fit, too small\"\n",
    "tes4 = \"Pattern is lovely, but the dress size is wrong\"\n",
    "tes5 = \"I don't like the dress, returned it\""
   ]
  },
  {
   "cell_type": "code",
   "execution_count": 25,
   "metadata": {},
   "outputs": [
    {
     "data": {
      "text/html": [
       "<div>\n",
       "<style scoped>\n",
       "    .dataframe tbody tr th:only-of-type {\n",
       "        vertical-align: middle;\n",
       "    }\n",
       "\n",
       "    .dataframe tbody tr th {\n",
       "        vertical-align: top;\n",
       "    }\n",
       "\n",
       "    .dataframe thead th {\n",
       "        text-align: right;\n",
       "    }\n",
       "</style>\n",
       "<table border=\"1\" class=\"dataframe\">\n",
       "  <thead>\n",
       "    <tr style=\"text-align: right;\">\n",
       "      <th></th>\n",
       "      <th>col</th>\n",
       "    </tr>\n",
       "  </thead>\n",
       "  <tbody>\n",
       "    <tr>\n",
       "      <td>0</td>\n",
       "      <td>The dress is weird and not fit, disappointed</td>\n",
       "    </tr>\n",
       "  </tbody>\n",
       "</table>\n",
       "</div>"
      ],
      "text/plain": [
       "                                            col\n",
       "0  The dress is weird and not fit, disappointed"
      ]
     },
     "execution_count": 25,
     "metadata": {},
     "output_type": "execute_result"
    }
   ],
   "source": [
    "d = {'col': tes2}\n",
    "df_res = pd.DataFrame(data=d, index=[0])\n",
    "df_res"
   ]
  },
  {
   "cell_type": "code",
   "execution_count": 12,
   "metadata": {},
   "outputs": [],
   "source": [
    "isian = {0:'Not Recommended', 1:'Recommended'}"
   ]
  },
  {
   "cell_type": "markdown",
   "metadata": {},
   "source": [
    "Test Model Bandingin Pipeline, Pipeline 1, Pipeline 3"
   ]
  },
  {
   "cell_type": "code",
   "execution_count": 26,
   "metadata": {},
   "outputs": [
    {
     "name": "stdout",
     "output_type": "stream",
     "text": [
      "Not Recommended dengan probability 59.0 %\n"
     ]
    }
   ],
   "source": [
    "result = model.predict(df_res['col'])[0]\n",
    "prob_num = model.predict_proba(df_res['col'])\n",
    "prob = (prob_num[0][result])*100\n",
    "print(f\"{isian[result]} dengan probability {round(prob, 2)} %\")"
   ]
  },
  {
   "cell_type": "code",
   "execution_count": 27,
   "metadata": {},
   "outputs": [
    {
     "name": "stdout",
     "output_type": "stream",
     "text": [
      "Not Recommended dengan probability 68.0 %\n"
     ]
    }
   ],
   "source": [
    "result = model_1.predict(df_res['col'])[0]\n",
    "prob_num = model_1.predict_proba(df_res['col'])\n",
    "prob = (prob_num[0][result])*100\n",
    "print(f\"{isian[result]} dengan probability {round(prob, 2)} %\")"
   ]
  },
  {
   "cell_type": "code",
   "execution_count": 28,
   "metadata": {},
   "outputs": [
    {
     "name": "stdout",
     "output_type": "stream",
     "text": [
      "Not Recommended dengan probability 81.0 %\n"
     ]
    }
   ],
   "source": [
    "result = model_2.predict(df_res['col'])[0]\n",
    "prob_num = model_2.predict_proba(df_res['col'])\n",
    "prob = (prob_num[0][result])*100\n",
    "print(f\"{isian[result]} dengan probability {round(prob, 2)} %\")"
   ]
  },
  {
   "cell_type": "code",
   "execution_count": 29,
   "metadata": {},
   "outputs": [
    {
     "name": "stdout",
     "output_type": "stream",
     "text": [
      "Recommended dengan probability 67.31 %\n"
     ]
    }
   ],
   "source": [
    "#decision tree\n",
    "result = model_3.predict(df_res['col'])[0]\n",
    "prob_num = model_3.predict_proba(df_res['col'])\n",
    "prob = (prob_num[0][result])*100\n",
    "print(f\"{isian[result]} dengan probability {round(prob, 2)} %\")"
   ]
  },
  {
   "cell_type": "markdown",
   "metadata": {},
   "source": [
    "Ketika model dites dengan contoh review, model paling stabil adalah Pipeline (menggunakan RFC percobaan pertama). Meskipun probabilitynya tidak bisa sampai bagus dalam menebak kelass 0 (hanya sekitar 50-60%) tetapi hampir bisa menebak kelasnya, dibandingkan decision tree yg kadang bisa menebak tes5 dgn prob 90% tetapi fail di tes2."
   ]
  },
  {
   "cell_type": "markdown",
   "metadata": {},
   "source": [
    "### Done."
   ]
  },
  {
   "cell_type": "code",
   "execution_count": null,
   "metadata": {},
   "outputs": [],
   "source": []
  }
 ],
 "metadata": {
  "kernelspec": {
   "display_name": "Python 3",
   "language": "python",
   "name": "python3"
  },
  "language_info": {
   "codemirror_mode": {
    "name": "ipython",
    "version": 3
   },
   "file_extension": ".py",
   "mimetype": "text/x-python",
   "name": "python",
   "nbconvert_exporter": "python",
   "pygments_lexer": "ipython3",
   "version": "3.7.4"
  }
 },
 "nbformat": 4,
 "nbformat_minor": 2
}
